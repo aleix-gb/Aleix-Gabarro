{
 "cells": [
  {
   "cell_type": "markdown",
   "metadata": {},
   "source": [
    "# Level 1"
   ]
  },
  {
   "cell_type": "markdown",
   "metadata": {},
   "source": [
    "#### Exercise 1. Body Mass Index Calculator\n",
    "\n",
    "Write a function that calculates the BMI (Body Mass Index) input by the user. That means whoever runs it will need to enter the required data. \n",
    "The function must classify the result into its respective categories.\n",
    "Low weight: < 18,50. \n",
    "Normal weight: 18,5-24,90. \n",
    "Overweight: 25-29,90. \n",
    "Obesity: > 30. "
   ]
  },
  {
   "cell_type": "code",
   "execution_count": 13,
   "metadata": {},
   "outputs": [
    {
     "name": "stdin",
     "output_type": "stream",
     "text": [
      "Enter your weight in kg 85\n",
      "Enter your height in meters 1.88\n"
     ]
    },
    {
     "name": "stdout",
     "output_type": "stream",
     "text": [
      "24.0 normal IMC\n"
     ]
    }
   ],
   "source": [
    "def calcul_imc():\n",
    "    try:\n",
    "        kg = float(input(\"Enter your weight in kg\"))\n",
    "        height = float(input(\"Enter your height in meters\"))\n",
    "        if kg <= 0 or height <= 0:\n",
    "           print(\"Numbers must be positive\")\n",
    "           return\n",
    "    \n",
    "        imc = float(round(kg/(height**2), 1))\n",
    "        if 0 <= imc < 18.5 :  \n",
    "            print(f\"{imc} low IMC\")\n",
    "        elif 18.5 <= imc < 25:\n",
    "            print(f\"{imc} normal IMC\")\n",
    "        elif 25 <= imc < 30:\n",
    "            print(f\"{imc} high IMC\")\n",
    "        else:\n",
    "            print(f\"{imc} very high IMC\")\n",
    "    except ValueError:\n",
    "       print(\"Insert a valid number\")\n",
    "calcul_imc()"
   ]
  },
  {
   "cell_type": "markdown",
   "metadata": {},
   "source": [
    "#### Exercise 2. Temperature Converter\n",
    "\n",
    "There are various temperature units used in different contexts and regions. The most common are Celsius (°C), Fahrenheit (°F), and Kelvin (K). Other units also exist, such as Rankine (°Ra) and Réaumur (°Re). Choose at least 2 converters so that, when a temperature is entered, it returns at least two conversions."
   ]
  },
  {
   "cell_type": "code",
   "execution_count": 14,
   "metadata": {},
   "outputs": [
    {
     "name": "stdin",
     "output_type": "stream",
     "text": [
      "Introdueix la temperatura en Celsius 80\n"
     ]
    },
    {
     "name": "stdout",
     "output_type": "stream",
     "text": [
      "80.0ºC equivalen a 354.15ºK i 64.0ºR\n"
     ]
    }
   ],
   "source": [
    "celsius = float(input(\"Introdueix la temperatura en Celsius\"))\n",
    "kelvin = round(celsius + 274.15, 2)\n",
    "reaumur = round(celsius * 0.8, 2)\n",
    "\n",
    "print(f\"{celsius}ºC equivalen a {kelvin}ºK i {reaumur}ºR\")"
   ]
  },
  {
   "cell_type": "code",
   "execution_count": 7,
   "metadata": {},
   "outputs": [
    {
     "name": "stdin",
     "output_type": "stream",
     "text": [
      "Which temperature unit do you want to convert, celsius, fahrenheit or kelvin? 199\n",
      "To which unit do you want to convert it, celsius, fahrenheit or kelvin? cesius\n",
      "To which other measure de you want to convert it? celsius\n"
     ]
    },
    {
     "name": "stdout",
     "output_type": "stream",
     "text": [
      "Error: 199 is not a valid option, please insert one of the followings: ['celsius', 'fahrenheit', 'kelvin']\n"
     ]
    }
   ],
   "source": [
    "import pandas as pd\n",
    "df = pd.read_excel(r\"C:\\Users\\Griselda\\Desktop\\Bootcamp Data Analytics\\Github\\Python\\Sprint_7_conversion.xlsx\", index_col = 0)\n",
    "\n",
    "df.columns = df.columns.str.strip().str.lower()\n",
    "df.index = df.index.str.strip().str.lower()\n",
    "\n",
    "available_units = df.index.tolist()\n",
    "\n",
    "origen = input(\"Which temperature unit do you want to convert, celsius, fahrenheit or kelvin?\").lower().strip()\n",
    "desti1 = input(\"To which unit do you want to convert it, celsius, fahrenheit or kelvin?\").lower().strip()\n",
    "desti2 = input(\"To which other measure de you want to convert it?\").lower().strip()\n",
    "\n",
    "def check_conversor():\n",
    "    if origen not in available_units:\n",
    "        print(f\"Error: {origen} is not a valid option, please insert one of the followings: {available_units}\")\n",
    "        return None\n",
    "    if desti1 not in available_units:\n",
    "        print(f\"Error: {desti1} is not a valid option, please insert one of the followings: {available_units}\")\n",
    "        return None\n",
    "    if desti2 not in available_units:\n",
    "        print(f\"Error: {desti2} is not a valid option, please insert one of the followings: {available_units}\")\n",
    "        return None\n",
    "\n",
    "    try:\n",
    "        graus = float(input(\"How many degrees should we convert?\"))\n",
    "    except ValueError:\n",
    "        print(\"Error: Insert a valid number\")\n",
    "        return None\n",
    "       \n",
    "    \n",
    "    formula1 = df.loc[origen, desti1]\n",
    "    result1 = round(eval(formula1), 2)\n",
    "    \n",
    "    formula2 = df.loc[origen, desti2]\n",
    "    result2 = round(eval(formula2), 2)\n",
    "    \n",
    "    print(f\"{graus} degrees {origen} are: \\n{result1} degrees {desti1} \\n{result2} degrees {desti2}\")\n",
    "\n",
    "check_conversor()"
   ]
  },
  {
   "cell_type": "markdown",
   "metadata": {},
   "source": [
    "#### Exercise 3. Word Counter for a Text\n",
    "\n",
    "Write a function that, given a text, shows how many times each word appears."
   ]
  },
  {
   "cell_type": "code",
   "execution_count": 21,
   "metadata": {},
   "outputs": [
    {
     "name": "stdin",
     "output_type": "stream",
     "text": [
      "Introduce a text example of answer\n"
     ]
    },
    {
     "name": "stdout",
     "output_type": "stream",
     "text": [
      "{'example': 1, 'of': 1, 'answer': 1}\n",
      "example : 1\n",
      "of : 1\n",
      "answer : 1\n"
     ]
    }
   ],
   "source": [
    "import re\n",
    "\n",
    "def words_count():\n",
    "\n",
    "    dic_text = {}\n",
    "    \n",
    "    text = input(\"Introduce a text\").lower()\n",
    "    only_words = re.sub(r\"[^\\w\\s]\", \"\", text)\n",
    "    separacio = only_words.split()\n",
    "    for paraula in separacio:\n",
    "            if paraula != \" \":\n",
    "                if paraula in dic_text:\n",
    "                    dic_text[paraula] +=1\n",
    "                else:\n",
    "                    dic_text[paraula] =1\n",
    "    print(dic_text)\n",
    "    for paraula, recompte in dic_text.items():\n",
    "            print(f\"{paraula} : {recompte}\")\n",
    "\n",
    "words_count()"
   ]
  },
  {
   "cell_type": "markdown",
   "metadata": {},
   "source": [
    "#### Exercise 4. Inverse Dictionary\n",
    "\n",
    "It turns out the client has a very old survey that is stored in a dictionary, and they need the results in reverse — that is, with the keys and values swapped. The values and keys in the original dictionary are unique; if that's not the case, the function should print a warning message."
   ]
  },
  {
   "cell_type": "code",
   "execution_count": 20,
   "metadata": {},
   "outputs": [
    {
     "name": "stdout",
     "output_type": "stream",
     "text": [
      "{1: 'a', 2: 'b', 3: 'c'}\n",
      "banana: Error: multiple keys for one value\n"
     ]
    }
   ],
   "source": [
    "reverse_dictionary = ({\"a\" : 1, \"b\": 2, \"c\": 3})\n",
    "dictionary = {v:k for k, v in reverse_dictionary.items()}\n",
    "print(dictionary)\n",
    "\n",
    "reverse_dictionary2 = ({\"x\": \"apple\", \"y\": \"banana\", \"z\": \"banana\"})\n",
    "repe = {}\n",
    "for v in reverse_dictionary2.values():\n",
    "    if v in repe:\n",
    "        repe[v] += 1\n",
    "    else:\n",
    "        repe[v] = 1\n",
    "\n",
    "for fruita, v in repe.items():\n",
    "    if v > 1:\n",
    "        print(f\"{fruita}: Error: multiple keys for one value\")"
   ]
  },
  {
   "cell_type": "markdown",
   "metadata": {},
   "source": [
    "# Level 2"
   ]
  },
  {
   "cell_type": "markdown",
   "metadata": {},
   "source": [
    "#### Exercise 1. Inverse Dictionary with Duplicates\n",
    "\n",
    "Continuing from Exercise 4 of Level 1: the client forgot to mention an important detail — the values in the original dictionary can be duplicated. This means that the swapped keys may have duplicates. In the previous exercise, you were printing a warning message, but now, the values in the resulting dictionary should be stored as a list. Keep in mind that if it’s a unique value, it does not need to be a list."
   ]
  },
  {
   "cell_type": "code",
   "execution_count": 22,
   "metadata": {},
   "outputs": [
    {
     "name": "stdout",
     "output_type": "stream",
     "text": [
      "{'apple': 'x', 'banana': ['y', 'z']}\n"
     ]
    }
   ],
   "source": [
    "def girar_values():\n",
    "    global dictionary2\n",
    "    reverse_dictionary2 = ({\"x\": \"apple\", \"y\": \"banana\", \"z\": \"banana\"})\n",
    "    dictionary2 = {}\n",
    "\n",
    "    for k, v in reverse_dictionary2.items():\n",
    "        if v in dictionary2:\n",
    "            dictionary2[v].append(k)\n",
    "        else:\n",
    "            dictionary2[v]=[k]\n",
    "    return(dictionary2)\n",
    "girar_values()\n",
    "\n",
    "def delist(v):\n",
    "    while isinstance(v, list) and len(v) == 1:\n",
    "        v = v[0]\n",
    "    if len(v) == 0:\n",
    "        v = \"\"\n",
    "    return v\n",
    "    v += 1\n",
    "new_dict2 = {k: delist(v) for k, v in dictionary2.items()}\n",
    "print(new_dict2)"
   ]
  },
  {
   "cell_type": "markdown",
   "metadata": {},
   "source": [
    "#### Exercise 2. Data Type Conversion\n",
    "\n",
    "The client receives a list of data and needs to generate two lists: one containing all the elements that could be converted to floats, and another with the elements that could not. Example of the list received by the client: ['1.3', 'one', '1e10', 'seven', '3-1/2', ('2', 1, 1.4, 'not-a-number'), [1, 2, '3', '3.4']]"
   ]
  },
  {
   "cell_type": "code",
   "execution_count": 23,
   "metadata": {},
   "outputs": [
    {
     "name": "stdout",
     "output_type": "stream",
     "text": [
      "([1.3, 10000000000.0, 2.0, 1.0, 1.4, 1.0, 2.0, 3.0, 3.4], ['one', 'seven', '3-1/2', 'not-a-number'])\n"
     ]
    }
   ],
   "source": [
    "conversion = ['1.3', 'one' , '1e10' , 'seven', '3-1/2', ('2',1,1.4,'not-a-number'), [1,2,'3','3.4']]\n",
    "floats = []\n",
    "nofloat = []\n",
    "\n",
    "def llistes(x):\n",
    "        if isinstance(x, float):\n",
    "            floats.append(x)\n",
    "        elif isinstance(x, int):\n",
    "            floats.append(float(x))\n",
    "        elif isinstance(x, str):\n",
    "            try:\n",
    "                floats.append(float(x))\n",
    "            except ValueError:\n",
    "                nofloat.append(x)\n",
    "        elif isinstance(x, list) or isinstance(x,tuple):\n",
    "             for a in x:\n",
    "                  llistes(a)\n",
    "        else:\n",
    "            nofloat.append(x)\n",
    "\n",
    "def llista(elements):\n",
    "     for elem in elements:\n",
    "          llistes(elem)\n",
    "llista(conversion)\n",
    "\n",
    "print((floats, nofloat))"
   ]
  },
  {
   "cell_type": "markdown",
   "metadata": {},
   "source": [
    "# Level 3"
   ]
  },
  {
   "cell_type": "markdown",
   "metadata": {},
   "source": [
    "#### Exercise 1. Text Word Counter and Sorter\n",
    "\n",
    "The client was happy with the word counter, but now wants to read TXT files and calculate the frequency of each word, sorted into the usual dictionary entries by the letter they begin with — meaning the keys should go from A to Z, and within each letter group (like “A”), the words should also go from A to Z."
   ]
  },
  {
   "cell_type": "code",
   "execution_count": 5,
   "metadata": {},
   "outputs": [
    {
     "name": "stdout",
     "output_type": "stream",
     "text": [
      "tú me quieres alba,\n",
      "me quieres de espumas,\n",
      "me quieres de nácar.\n",
      "que sea azucena\n",
      "sobre todas, casta.\n",
      "de perfume tenue.\n",
      "corola cerrada .\n",
      "\n",
      "ni un rayo de luna\n",
      "filtrado me haya.\n",
      "ni una margarita\n",
      "se diga mi hermana.\n",
      "tú me quieres nívea,\n",
      "tú me quieres blanca,\n",
      "tú me quieres alba.\n",
      "\n",
      "tú que hubiste todas\n",
      "las copas a mano,\n",
      "de frutos y mieles\n",
      "los labios morados.\n",
      "tú que en el banquete\n",
      "cubierto de pámpanos\n",
      "dejaste las carnes\n",
      "festejando a baco.\n",
      "tú que en los jardines\n",
      "negros del engaño\n",
      "vestido de rojo\n",
      "corriste al estrago.\n",
      "\n",
      "tú que el esqueleto\n",
      "conservas intacto\n",
      "no sé todavía\n",
      "por cuáles milagros,\n",
      "me pretendes blanca\n",
      "(dios te lo perdone),\n",
      "me pretendes casta\n",
      "(dios te lo perdone),\n",
      "¡me pretendes alba!\n",
      "\n",
      "huye hacia los bosques,\n",
      "vete a la montaña;\n",
      "límpiate la boca;\n",
      "vive en las cabañas;\n",
      "toca con las manos\n",
      "la tierra mojada;\n",
      "alimenta el cuerpo\n",
      "con raíz amarga;\n",
      "bebe de las rocas;\n",
      "duerme sobre escarcha;\n",
      "renueva tejidos\n",
      "con salitre y agua:\n",
      "\n",
      "habla con los pájaros\n",
      "y lévate al alba.\n",
      "y cuando las carnes\n",
      "te sean tornadas,\n",
      "y cuando hayas puesto\n",
      "en ellas el alma\n",
      "que por las alcobas\n",
      "se quedó enredada,\n",
      "entonces, buen hombre,\n",
      "preténdeme blanca,\n",
      "preténdeme nívea,\n",
      "preténdeme casta.\n",
      "['a', 'a', 'a', 'agua', 'al', 'al', 'alba', 'alba', 'alba', 'alba', 'alcobas', 'alimenta', 'alma', 'amarga', 'azucena', 'baco', 'banquete', 'bebe', 'blanca', 'blanca', 'blanca', 'boca', 'bosques', 'buen', 'cabañas', 'carnes', 'carnes', 'casta', 'casta', 'casta', 'cerrada', 'con', 'con', 'con', 'con', 'conservas', 'copas', 'corola', 'corriste', 'cuando', 'cuando', 'cubierto', 'cuerpo', 'cuáles', 'de', 'de', 'de', 'de', 'de', 'de', 'de', 'de', 'dejaste', 'del', 'diga', 'dios', 'dios', 'duerme', 'el', 'el', 'el', 'el', 'ellas', 'en', 'en', 'en', 'en', 'engaño', 'enredada', 'entonces', 'escarcha', 'espumas', 'esqueleto', 'estrago', 'festejando', 'filtrado', 'frutos', 'habla', 'hacia', 'haya', 'hayas', 'hermana', 'hombre', 'hubiste', 'huye', 'intacto', 'jardines', 'la', 'la', 'la', 'labios', 'las', 'las', 'las', 'las', 'las', 'las', 'las', 'lo', 'lo', 'los', 'los', 'los', 'los', 'luna', 'lévate', 'límpiate', 'mano', 'manos', 'margarita', 'me', 'me', 'me', 'me', 'me', 'me', 'me', 'me', 'me', 'me', 'mi', 'mieles', 'milagros', 'mojada', 'montaña', 'morados', 'negros', 'ni', 'ni', 'no', 'nácar', 'nívea', 'nívea', 'perdone', 'perdone', 'perfume', 'por', 'por', 'pretendes', 'pretendes', 'pretendes', 'preténdeme', 'preténdeme', 'preténdeme', 'puesto', 'pájaros', 'pámpanos', 'que', 'que', 'que', 'que', 'que', 'que', 'quedó', 'quieres', 'quieres', 'quieres', 'quieres', 'quieres', 'quieres', 'rayo', 'raíz', 'renueva', 'rocas', 'rojo', 'salitre', 'se', 'se', 'sea', 'sean', 'sobre', 'sobre', 'sé', 'te', 'te', 'te', 'tejidos', 'tenue', 'tierra', 'toca', 'todas', 'todas', 'todavía', 'tornadas', 'tú', 'tú', 'tú', 'tú', 'tú', 'tú', 'tú', 'tú', 'un', 'una', 'vestido', 'vete', 'vive', 'y', 'y', 'y', 'y', 'y'] \n",
      "\n",
      "a : {'a': 3, 'agua': 1, 'al': 2, 'alba': 4, 'alcobas': 1, 'alimenta': 1, 'alma': 1, 'amarga': 1, 'azucena': 1}\n",
      "b : {'baco': 1, 'banquete': 1, 'bebe': 1, 'blanca': 3, 'boca': 1, 'bosques': 1, 'buen': 1}\n",
      "c : {'cabañas': 1, 'carnes': 2, 'casta': 3, 'cerrada': 1, 'con': 4, 'conservas': 1, 'copas': 1, 'corola': 1, 'corriste': 1, 'cuando': 2, 'cubierto': 1, 'cuerpo': 1, 'cuáles': 1}\n",
      "d : {'de': 8, 'dejaste': 1, 'del': 1, 'diga': 1, 'dios': 2, 'duerme': 1}\n",
      "e : {'el': 4, 'ellas': 1, 'en': 4, 'engaño': 1, 'enredada': 1, 'entonces': 1, 'escarcha': 1, 'espumas': 1, 'esqueleto': 1, 'estrago': 1}\n",
      "f : {'festejando': 1, 'filtrado': 1, 'frutos': 1}\n",
      "h : {'habla': 1, 'hacia': 1, 'haya': 1, 'hayas': 1, 'hermana': 1, 'hombre': 1, 'hubiste': 1, 'huye': 1}\n",
      "i : {'intacto': 1}\n",
      "j : {'jardines': 1}\n",
      "l : {'la': 3, 'labios': 1, 'las': 7, 'lo': 2, 'los': 4, 'luna': 1, 'lévate': 1, 'límpiate': 1}\n",
      "m : {'mano': 1, 'manos': 1, 'margarita': 1, 'me': 10, 'mi': 1, 'mieles': 1, 'milagros': 1, 'mojada': 1, 'montaña': 1, 'morados': 1}\n",
      "n : {'negros': 1, 'ni': 2, 'no': 1, 'nácar': 1, 'nívea': 2}\n",
      "p : {'perdone': 2, 'perfume': 1, 'por': 2, 'pretendes': 3, 'preténdeme': 3, 'puesto': 1, 'pájaros': 1, 'pámpanos': 1}\n",
      "q : {'que': 6, 'quedó': 1, 'quieres': 6}\n",
      "r : {'rayo': 1, 'raíz': 1, 'renueva': 1, 'rocas': 1, 'rojo': 1}\n",
      "s : {'salitre': 1, 'se': 2, 'sea': 1, 'sean': 1, 'sobre': 2, 'sé': 1}\n",
      "t : {'te': 3, 'tejidos': 1, 'tenue': 1, 'tierra': 1, 'toca': 1, 'todas': 2, 'todavía': 1, 'tornadas': 1, 'tú': 8}\n",
      "u : {'un': 1, 'una': 1}\n",
      "v : {'vestido': 1, 'vete': 1, 'vive': 1}\n",
      "y : {'y': 5}\n"
     ]
    }
   ],
   "source": [
    "with open(r\"C:\\Users\\Griselda\\Desktop\\Bootcamp Data Analytics\\Github\\Python\\Sprint_7_tu_me_quieres_blanca.txt\", \"r\", encoding = \"utf-8\") as file:\n",
    "    poema = file.read().lower()\n",
    "    print (poema)\n",
    "\n",
    "import re\n",
    "import string\n",
    "\n",
    "def count_words():\n",
    "    caracters_out = re.sub(r\"[^\\w\\s]\", \"\", poema)\n",
    "    paraules = sorted(caracters_out.split())\n",
    "    print(paraules, \"\\n\")\n",
    "\n",
    "    dic_blanca = {}\n",
    "    \n",
    "    for p in paraules:\n",
    "        if p in dic_blanca:\n",
    "            dic_blanca[p] +=1\n",
    "        else:\n",
    "             dic_blanca[p] =1\n",
    "    return dic_blanca\n",
    "    \n",
    "dic_blanca = count_words()\n",
    "\n",
    "def fun_abecedari():\n",
    "    abecedari1 = list(string.ascii_lowercase)\n",
    "    accents = [\"á\", \"é\", \"í\", \"ó\", \"ú\", \"ñ\"]\n",
    "    abecedari = {lletra: {} for lletra in (abecedari1 + accents)}\n",
    "    # print(abecedari, \"\\n\")\n",
    "\n",
    "    for paraula, frequencia in dic_blanca.items():\n",
    "        inicial = paraula[0]\n",
    "        abecedari[inicial][paraula] = frequencia #abecedari[inicial] -> agafa les lletres de l'abecedari - [paraula] -> ajunta la paraula a cada inicial - = frequencia -> afegeix la frequencia\n",
    "    return abecedari\n",
    "\n",
    "abecedari_dict = fun_abecedari()\n",
    "\n",
    "def resultat_net():\n",
    "    dic_final = {}\n",
    "    for inicial, diccionariparaules in abecedari_dict.items():\n",
    "        if not diccionariparaules:\n",
    "            continue #si no té contingut salta la inicial\n",
    "        dic_final[inicial] = diccionariparaules #si té contingut afegeix al diccionari\n",
    "    return dic_final\n",
    "dic_final = resultat_net()\n",
    "\n",
    "for inicial, paraula in dic_final.items():\n",
    "        print(f\"{inicial} : {paraula}\")"
   ]
  }
 ],
 "metadata": {
  "kernelspec": {
   "display_name": "Python 3 (ipykernel)",
   "language": "python",
   "name": "python3"
  },
  "language_info": {
   "codemirror_mode": {
    "name": "ipython",
    "version": 3
   },
   "file_extension": ".py",
   "mimetype": "text/x-python",
   "name": "python",
   "nbconvert_exporter": "python",
   "pygments_lexer": "ipython3",
   "version": "3.12.7"
  }
 },
 "nbformat": 4,
 "nbformat_minor": 4
}
